{
 "cells": [
  {
   "cell_type": "markdown",
   "source": [
    "### Innoviz assigment:\n",
    "\n",
    "    Sign detection and classification by point cloud.\n",
    "    Algorithm is tested on provided data and simuations.\n",
    "\n",
    "    By Sergey Sinitsa"
   ],
   "metadata": {
    "collapsed": false,
    "pycharm": {
     "name": "#%% md\n"
    }
   }
  },
  {
   "cell_type": "markdown",
   "source": [
    "Module import:"
   ],
   "metadata": {
    "collapsed": false
   }
  },
  {
   "cell_type": "code",
   "source": [
    "from pathlib import Path\n",
    "import argparse\n",
    "\n",
    "import numpy as np\n",
    "\n",
    "import algorithms as alg\n",
    "import io_utils as io\n"
   ],
   "metadata": {
    "collapsed": false,
    "pycharm": {
     "name": "#%%\n"
    }
   },
   "execution_count": null,
   "outputs": []
  },
  {
   "cell_type": "markdown",
   "source": [
    "# Test on provided data"
   ],
   "metadata": {
    "collapsed": false,
    "pycharm": {
     "name": "#%% md\n"
    }
   }
  },
  {
   "cell_type": "markdown",
   "source": [
    "Data path specification:"
   ],
   "metadata": {
    "collapsed": false
   }
  },
  {
   "cell_type": "code",
   "execution_count": null,
   "outputs": [],
   "source": [
    "cluster_path = Path(r\"Objects\\cluster_2.csv\")\n",
    "min_ratio = 0.75\n"
   ],
   "metadata": {
    "collapsed": false,
    "pycharm": {
     "name": "#%%\n"
    }
   }
  },
  {
   "cell_type": "markdown",
   "source": [
    "Data preview:"
   ],
   "metadata": {
    "collapsed": false
   }
  },
  {
   "cell_type": "code",
   "source": [
    "points = io.read_csv(cluster_path)\n",
    "scene = io.Scene_viewer(points)  # Initialization of scene view\n",
    "sign_detector = alg.Bi_Modal()  # Initialization of bi modal detector\n",
    "\n",
    "scene.show_cluster(points, False, title='Scene preview')\n",
    "scene.show_cluster(points, True, title='Scaled scene preview')  # Cluster preview"
   ],
   "metadata": {
    "collapsed": false,
    "pycharm": {
     "name": "#%%\n"
    }
   },
   "execution_count": null,
   "outputs": []
  },
  {
   "cell_type": "markdown",
   "source": [
    "Detection of Bi-Modal reflectivity density:"
   ],
   "metadata": {
    "collapsed": false
   }
  },
  {
   "cell_type": "code",
   "execution_count": null,
   "outputs": [],
   "source": [
    "sign_detector.fit_kde(points[:, -1])\n",
    "dens, dens_x = sign_detector.produce_density_arr(points[:, -1], 100, show=False) # Generation of smooth density function\n",
    "mode_status = sign_detector.detect_modes(dens_x, dens) # Mode detection and threshold detection\n",
    "\n",
    "io.status_report(mode_status)  # Stops the execution if not a sign"
   ],
   "metadata": {
    "collapsed": false,
    "pycharm": {
     "name": "#%%\n"
    }
   }
  },
  {
   "cell_type": "markdown",
   "source": [
    "Plate orientation detection:"
   ],
   "metadata": {
    "collapsed": false
   }
  },
  {
   "cell_type": "code",
   "execution_count": null,
   "outputs": [],
   "source": [
    "points_plate, points_pole = sign_detector.separate_by_thresh(points)  # Two sets of points - pole and plate\n",
    "\n",
    "scene.show_cluster(points_plate, True)  # Plate preview\n",
    "scene.show_cluster(points_pole, True)  # Pole preview\n",
    "\n",
    "plate_plane = alg.Plate(min_ratio)  # At least 75% of points have to form a plane\n",
    "plate_status = plate_plane.detect_plane_coefs(points_plate)  # Detect the 3D plane coefficients and normal\n",
    "\n",
    "io.status_report(plate_status)  # Stops the execution if not a sign"
   ],
   "metadata": {
    "collapsed": false,
    "pycharm": {
     "name": "#%%\n"
    }
   }
  },
  {
   "cell_type": "markdown",
   "source": [
    "Plate preview by inliers and outliers:"
   ],
   "metadata": {
    "collapsed": false
   }
  },
  {
   "cell_type": "code",
   "execution_count": null,
   "outputs": [],
   "source": [
    "scene.show_cluster(np.concatenate((plate_plane.inliers, plate_plane.outliers), 0),\n",
    "                   True)  # Inliers and outliers preview\n",
    "\n",
    "projected_points = plate_plane.project_to_plate(points_plate)  # Project plate points to plate, including outliers"
   ],
   "metadata": {
    "collapsed": false,
    "pycharm": {
     "name": "#%%\n"
    }
   }
  },
  {
   "cell_type": "markdown",
   "source": [
    "Preview of points projection to plate plane:"
   ],
   "metadata": {
    "collapsed": false
   }
  },
  {
   "cell_type": "code",
   "execution_count": null,
   "outputs": [],
   "source": [
    "scene.show_cluster(projected_points, True)  # Preview the projected points\n",
    "\n",
    "projected_points, img = plate_plane.rotate_plane(projected_points)  # Align plate plane with xy plane"
   ],
   "metadata": {
    "collapsed": false,
    "pycharm": {
     "name": "#%%\n"
    }
   }
  },
  {
   "cell_type": "markdown",
   "source": [
    "Preview of points in image space:"
   ],
   "metadata": {
    "collapsed": false
   }
  },
  {
   "cell_type": "code",
   "execution_count": null,
   "outputs": [],
   "source": [
    "io.show_image(img, title='Points in pixel space')  # Preview the image"
   ],
   "metadata": {
    "collapsed": false,
    "pycharm": {
     "name": "#%%\n"
    }
   }
  },
  {
   "cell_type": "markdown",
   "source": [
    "Shape detection:"
   ],
   "metadata": {
    "collapsed": false
   }
  },
  {
   "cell_type": "code",
   "execution_count": null,
   "outputs": [],
   "source": [
    "shape_type = plate_plane.detect_shapes(img)  # Check what shape suits the most to plate\n",
    "\n",
    "print(f'The {shape_type} shaped sign is detected.')\n",
    "\n",
    "\n"
   ],
   "metadata": {
    "collapsed": false,
    "pycharm": {
     "name": "#%%\n"
    }
   }
  }
 ],
 "metadata": {
  "kernelspec": {
   "display_name": "Python 3",
   "language": "python",
   "name": "python3"
  },
  "language_info": {
   "codemirror_mode": {
    "name": "ipython",
    "version": 2
   },
   "file_extension": ".py",
   "mimetype": "text/x-python",
   "name": "python",
   "nbconvert_exporter": "python",
   "pygments_lexer": "ipython2",
   "version": "2.7.6"
  }
 },
 "nbformat": 4,
 "nbformat_minor": 0
}